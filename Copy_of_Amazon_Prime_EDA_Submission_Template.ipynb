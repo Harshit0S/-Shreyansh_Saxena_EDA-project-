{
  "nbformat": 4,
  "nbformat_minor": 0,
  "metadata": {
    "colab": {
      "private_outputs": true,
      "provenance": [],
      "collapsed_sections": [
        "vncDsAP0Gaoa",
        "FJNUwmbgGyua",
        "yQaldy8SH6Dl",
        "PH-0ReGfmX4f",
        "mDgbUHAGgjLW",
        "Y3lxredqlCYt",
        "3RnN4peoiCZX",
        "x71ZqKXriCWQ",
        "7hBIi_osiCS2",
        "JlHwYmJAmNHm",
        "35m5QtbWiB9F",
        "PoPl-ycgm1ru",
        "H0kj-8xxnORC",
        "nA9Y7ga8ng1Z",
        "PBTbrJXOngz2",
        "u3PMJOP6ngxN",
        "bKJF3rekwFvQ",
        "MSa1f5Uengrz",
        "KSlN3yHqYklG",
        "PIIx-8_IphqN",
        "BZR9WyysphqO",
        "YJ55k-q6phqO",
        "U2RJ9gkRphqQ",
        "x-EpHcCOp1ci",
        "n3dbpmDWp1ck",
        "Ag9LCva-p1cl",
        "NC_X3p0fY2L0"
      ],
      "cell_execution_strategy": "setup"
    },
    "kernelspec": {
      "name": "python3",
      "display_name": "Python 3"
    },
    "language_info": {
      "name": "python"
    }
  },
  "cells": [
    {
      "cell_type": "code",
      "source": [],
      "metadata": {
        "id": "I1apcow5dxii"
      },
      "execution_count": null,
      "outputs": []
    },
    {
      "cell_type": "markdown",
      "source": [
        "# **Project Name**    -\n",
        "\n"
      ],
      "metadata": {
        "id": "vncDsAP0Gaoa"
      }
    },
    {
      "cell_type": "markdown",
      "source": [
        "##### **Project Type**    - Exploratory data analysis (EDA) on AmazonPrime\n",
        "##### **Contribution**    - Individual\n",
        "##### **Team Member 1 -** Shreyansh Saxena"
      ],
      "metadata": {
        "id": "beRrZCGUAJYm"
      }
    },
    {
      "cell_type": "markdown",
      "source": [
        "# **Project Summary -**"
      ],
      "metadata": {
        "id": "FJNUwmbgGyua"
      }
    },
    {
      "cell_type": "markdown",
      "source": [
        "The objective of this project was to perform Exploratory Data Analysis (EDA) on Amazon Prime TV shows and movies to understand the key trends, patterns, and potential improvements for content recommendations. The analysis was conducted using two datasets: titles.csv, which contains detailed information about movies and TV shows, and credits.csv, which includes details about the people involved in these productions.\n",
        "\n",
        "Understanding the Dataset\n",
        "The titles.csv dataset consists of 9,871 entries with 15 columns, including title names, types (movie or show), descriptions, genres, release years, age certifications, IMDb and TMDb ratings, and popularity scores. The credits.csv dataset has 124,235 records with 5 columns, detailing actors, directors, and other contributors to each title.\n",
        "\n",
        "Initial data inspection revealed several missing values, particularly in key columns such as age_certification, seasons, imdb_score, and tmdb_score. The credits.csv dataset had some missing values in the character column, where certain actors did not have a recorded role name. Additionally, the datasets contained duplicate records, which needed to be removed for accurate analysis.\n",
        "\n",
        "Data Cleaning and Preprocessing\n",
        "To ensure data quality, several data wrangling techniques were applied:\n",
        "\n",
        "Duplicate Removal – Duplicate records in both datasets were dropped to avoid redundancy.\n",
        "Handling Missing Values – Missing values in age_certification were replaced with “Not Rated,” missing seasons were set to 0 for movies, and IMDb/TMDb scores were filled with their respective median values. Missing character names in credits.csv were replaced with “Unknown.”\n",
        "Data Type Optimization – Columns like release_year, seasons, and imdb_votes were converted to integer types, while IMDb and TMDb scores were set as floats for numerical analysis.\n",
        "Text Standardization – Title names were capitalized, genres were converted to lowercase for consistency, and production country names were cleaned for better readability.\n",
        "Key Insights from the Analysis\n",
        "After cleaning the dataset, several key insights were uncovered:\n",
        "\n",
        "A significant number of shows were missing age certifications, which could impact parental control features and audience targeting.\n",
        "IMDb and TMDb ratings had some missing values, which might affect recommendation algorithms if not handled properly.\n",
        "The seasons column was mostly empty, indicating that most titles were movies rather than TV shows.\n",
        "Popularity scores varied widely, suggesting that some titles gained significant audience traction while others remained less popular.\n",
        "Business Recommendations\n",
        "Based on the insights from the EDA, several recommendations were made to improve the content strategy for Amazon Prime:\n",
        "\n",
        "Enhancing Content Recommendations – By utilizing IMDb and TMDb ratings, the platform can prioritize highly-rated shows and movies in user recommendations.\n",
        "Filling Metadata Gaps – Missing values in key columns like age certifications and ratings should be cross-referenced with external databases to improve data completeness.\n",
        "Targeted Marketing Based on Popularity – High tmdb_popularity scores indicate which titles attract more viewers. These should be highlighted in promotional banners and featured sections.\n",
        "Regional Content Optimization – Analyzing production_countries and age_certification can help curate region-specific recommendations, improving audience engagement.\n",
        "Better Differentiation Between TV Shows and Movies – Using the seasons column to correctly classify content will enhance search filters and user experience."
      ],
      "metadata": {
        "id": "F6v_1wHtG2nS"
      }
    },
    {
      "cell_type": "markdown",
      "source": [
        "# **GitHub Link -**"
      ],
      "metadata": {
        "id": "w6K7xa23Elo4"
      }
    },
    {
      "cell_type": "markdown",
      "source": [
        "Provide your GitHub Link here."
      ],
      "metadata": {
        "id": "h1o69JH3Eqqn"
      }
    },
    {
      "cell_type": "markdown",
      "source": [
        "# **Problem Statement**\n"
      ],
      "metadata": {
        "id": "yQaldy8SH6Dl"
      }
    },
    {
      "cell_type": "markdown",
      "source": [
        "This dataset was created to analyze all shows available on Amazon Prime Video, allowing us to extract valuable insights such as:\n",
        "\n",
        "Content Diversity: What genres and categories dominate the platform?\n",
        "\n",
        "Regional Availability: How does content distribution vary across different regions?\n",
        "\n",
        "Trends Over Time: How has Amazon Prime's content library evolved?\n",
        "\n",
        "IMDb Ratings & Popularity: What are the highest-rated or most popular shows on the platform?\n",
        "\n",
        "By analyzing this dataset, businesses, content creators, and data analysts can uncover key trends that influence subscription growth, user engagement, and content investment strategies in the streaming industry.\n",
        "\n",
        "Main Libraries to be used:\n",
        "\n",
        "Pandas for data manipulation, aggregation\n",
        "Matplotlib and Seaborn for visualization and behavior with respect to the target variable. Lise at least 5 different visualizations.\n",
        "NumPy for computationally efficient operations"
      ],
      "metadata": {
        "id": "DpeJGUA3kjGy"
      }
    },
    {
      "cell_type": "markdown",
      "source": [
        "#### **Define Your Business Objective?**"
      ],
      "metadata": {
        "id": "PH-0ReGfmX4f"
      }
    },
    {
      "cell_type": "markdown",
      "source": [
        "In today's competitive streaming industry, platforms like Amazon Prime Video are constantly expanding their content libraries to cater to diverse audiences. With a growing number of shows and movies available on the platform, data-driven insights play a crucial role in understanding trends, audience preferences, and content strategy.\n",
        "\n",
        "This dato set was created to list all shows available on Amozon Prime streaming, and analyze the data to find interesting facts. This dataset has data available in the United States.\n",
        "\n",
        "This dataset has 2 csv files and it is a mix of categorical and numeric values."
      ],
      "metadata": {
        "id": "PhDvGCAqmjP1"
      }
    },
    {
      "cell_type": "markdown",
      "source": [
        "# **General Guidelines** : -  "
      ],
      "metadata": {
        "id": "mDgbUHAGgjLW"
      }
    },
    {
      "cell_type": "markdown",
      "source": [
        "1.   Well-structured, formatted, and commented code is required.\n",
        "2.   Exception Handling, Production Grade Code & Deployment Ready Code will be a plus. Those students will be awarded some additional credits.\n",
        "     \n",
        "     The additional credits will have advantages over other students during Star Student selection.\n",
        "       \n",
        "             [ Note: - Deployment Ready Code is defined as, the whole .ipynb notebook should be executable in one go\n",
        "                       without a single error logged. ]\n",
        "\n",
        "3.   Each and every logic should have proper comments.\n",
        "4. You may add as many number of charts you want. Make Sure for each and every chart the following format should be answered.\n",
        "        \n",
        "\n",
        "```\n",
        "# Chart visualization code\n",
        "```\n",
        "            \n",
        "\n",
        "*   Why did you pick the specific chart?\n",
        "*   What is/are the insight(s) found from the chart?\n",
        "* Will the gained insights help creating a positive business impact?\n",
        "Are there any insights that lead to negative growth? Justify with specific reason.\n",
        "\n",
        "5. You have to create at least 20 logical & meaningful charts having important insights.\n",
        "\n",
        "\n",
        "[ Hints : - Do the Vizualization in  a structured way while following \"UBM\" Rule.\n",
        "\n",
        "U - Univariate Analysis,\n",
        "\n",
        "B - Bivariate Analysis (Numerical - Categorical, Numerical - Numerical, Categorical - Categorical)\n",
        "\n",
        "M - Multivariate Analysis\n",
        " ]\n",
        "\n",
        "\n",
        "\n"
      ],
      "metadata": {
        "id": "ZrxVaUj-hHfC"
      }
    },
    {
      "cell_type": "markdown",
      "source": [
        "# ***Let's Begin !***"
      ],
      "metadata": {
        "id": "O_i_v8NEhb9l"
      }
    },
    {
      "cell_type": "markdown",
      "source": [
        "## ***1. Know Your Data***"
      ],
      "metadata": {
        "id": "HhfV-JJviCcP"
      }
    },
    {
      "cell_type": "markdown",
      "source": [
        "### Import Libraries"
      ],
      "metadata": {
        "id": "Y3lxredqlCYt"
      }
    },
    {
      "cell_type": "code",
      "source": [
        "import pandas as pd\n",
        "import numpy as np\n",
        "import matplotlib.pyplot as plt\n",
        "import seaborn as sns\n",
        "\n"
      ],
      "metadata": {
        "id": "M8Vqi-pPk-HR"
      },
      "execution_count": null,
      "outputs": []
    },
    {
      "cell_type": "markdown",
      "source": [
        "### Dataset Loading"
      ],
      "metadata": {
        "id": "3RnN4peoiCZX"
      }
    },
    {
      "cell_type": "code",
      "source": [
        "# Load the titles dataset\n",
        "titles_df = pd.read_csv('/titles.csv')\n",
        "\n",
        "# Load the credits dataset\n",
        "credits_df = pd.read_csv('/credits.csv')\n",
        "\n",
        "\n",
        "\n",
        "\n",
        "\n"
      ],
      "metadata": {
        "id": "4CkvbW_SlZ_R"
      },
      "execution_count": null,
      "outputs": []
    },
    {
      "cell_type": "markdown",
      "source": [
        "### Dataset First View"
      ],
      "metadata": {
        "id": "x71ZqKXriCWQ"
      }
    },
    {
      "cell_type": "code",
      "source": [
        "# Display first few rows in a tabular format\n",
        "import pandas as pd\n",
        "\n",
        "print(\"First 5 rows of Titles Dataset:\")\n",
        "display(titles_df.head())\n",
        "\n",
        "print(\"\\nFirst 5 rows of Credits Dataset:\")\n",
        "display(credits_df.head())\n",
        "\n",
        "\n"
      ],
      "metadata": {
        "id": "LWNFOSvLl09H"
      },
      "execution_count": null,
      "outputs": []
    },
    {
      "cell_type": "markdown",
      "source": [
        "### Dataset Rows & Columns count"
      ],
      "metadata": {
        "id": "7hBIi_osiCS2"
      }
    },
    {
      "cell_type": "code",
      "source": [
        "# Display row and column count using Pandas\n",
        "print(\"Titles Dataset:\")\n",
        "print(titles_df.shape)\n",
        "\n",
        "print(\"\\nCredits Dataset:\")\n",
        "print(credits_df.shape)\n",
        "\n"
      ],
      "metadata": {
        "id": "Kllu7SJgmLij"
      },
      "execution_count": null,
      "outputs": []
    },
    {
      "cell_type": "markdown",
      "source": [
        "### Dataset Information"
      ],
      "metadata": {
        "id": "JlHwYmJAmNHm"
      }
    },
    {
      "cell_type": "code",
      "source": [
        "# Display dataset info\n",
        "titles_df.info()\n",
        "credits_df.info()\n"
      ],
      "metadata": {
        "id": "e9hRXRi6meOf"
      },
      "execution_count": null,
      "outputs": []
    },
    {
      "cell_type": "markdown",
      "source": [
        "#### Duplicate Values"
      ],
      "metadata": {
        "id": "35m5QtbWiB9F"
      }
    },
    {
      "cell_type": "code",
      "source": [
        "# Count duplicate rows in each dataset\n",
        "titles_duplicates = titles_df.duplicated().sum()\n",
        "credits_duplicates = credits_df.duplicated().sum()\n",
        "\n",
        "print(f\"Duplicate rows in Titles Dataset: {titles_duplicates}\")\n",
        "print(f\"Duplicate rows in Credits Dataset: {credits_duplicates}\")\n"
      ],
      "metadata": {
        "id": "1sLdpKYkmox0"
      },
      "execution_count": null,
      "outputs": []
    },
    {
      "cell_type": "markdown",
      "source": [
        "#### Missing Values/Null Values"
      ],
      "metadata": {
        "id": "PoPl-ycgm1ru"
      }
    },
    {
      "cell_type": "code",
      "source": [
        "# Count missing values in each column\n",
        "print(\"Missing Values in Titles Dataset:\")\n",
        "print(titles_df.isnull().sum())\n",
        "\n",
        "print(\"\\nMissing Values in Credits Dataset:\")\n",
        "print(credits_df.isnull().sum())\n"
      ],
      "metadata": {
        "id": "GgHWkxvamxVg"
      },
      "execution_count": null,
      "outputs": []
    },
    {
      "cell_type": "code",
      "source": [
        "# Bar plot for title.csv showing missing values\n",
        "titles_df = pd.read_csv(\"/titles.csv\")\n",
        "\n",
        "missing_values = titles_df.isnull().sum()  # Count missing values\n",
        "missing_values = missing_values[missing_values > 0]  # Filter out columns with no missing values\n",
        "\n",
        "plt.figure(figsize=(10, 5))\n",
        "missing_values.plot(kind='bar', color='red')\n",
        "\n",
        "plt.title(\"Missing Values in title.csv\")\n",
        "plt.xlabel(\"Columns\")\n",
        "plt.ylabel(\"Count of Missing Values\")\n",
        "plt.xticks(rotation=45)\n",
        "plt.show()\n",
        "\n",
        "\n"
      ],
      "metadata": {
        "id": "aBsLtntxICXB"
      },
      "execution_count": null,
      "outputs": []
    },
    {
      "cell_type": "markdown",
      "source": [
        "*missing values in credit.csv*\n",
        "\n",
        "We provide a bar plot for title.csv to visualize missing values, as it contains columns with null values. However, we do not generate a bar plot for credit.csv since it has no missing values."
      ],
      "metadata": {
        "id": "VEWAijjjPaXC"
      }
    },
    {
      "cell_type": "markdown",
      "source": [
        "### What did you know about your dataset?"
      ],
      "metadata": {
        "id": "H0kj-8xxnORC"
      }
    },
    {
      "cell_type": "markdown",
      "source": [
        "1.Credits Dataset (credits.csv):\n",
        "\n",
        "* Contains 124,235 entries with 5 columns: person_id, id, name, character, and role.\n",
        "* No missing values except in the character column, which has 16,287 missing values.\n",
        "* Represents a mapping of people (actors, directors, etc.) to titles.\n",
        "\n",
        "2.Titles Dataset (titles.csv):\n",
        "\n",
        "* Contains 9,871 entries with 15 columns.\n",
        "* Significant missing values in:\n",
        "* age_certification (6,487 missing)\n",
        "* seasons (8,514 missing)\n",
        "* imdb_id, imdb_score, imdb_votes, tmdb_score (some missing values)\n",
        "* Contains information about movies and TV shows, including their genres, ratings, and popularity scores."
      ],
      "metadata": {
        "id": "gfoNAAC-nUe_"
      }
    },
    {
      "cell_type": "markdown",
      "source": [
        "## ***2. Understanding Your Variables***"
      ],
      "metadata": {
        "id": "nA9Y7ga8ng1Z"
      }
    },
    {
      "cell_type": "code",
      "source": [
        "# Dataset Columns\n",
        "import pandas as pd\n",
        "\n",
        "# Load the datasets\n",
        "credits = pd.read_csv(\"/credits.csv\")\n",
        "titles = pd.read_csv(\"/titles.csv\")\n",
        "\n",
        "# Display dataset columns\n",
        "print(\"Credits Dataset Columns:\")\n",
        "print(credits.columns.tolist())\n",
        "\n",
        "print(\"\\nTitles Dataset Columns:\")\n",
        "print(titles.columns.tolist())\n"
      ],
      "metadata": {
        "id": "j7xfkqrt5Ag5"
      },
      "execution_count": null,
      "outputs": []
    },
    {
      "cell_type": "code",
      "source": [
        "# Display dataset statistics\n",
        "print(\"Credits Dataset Description:\")\n",
        "print(credits.describe())\n",
        "\n",
        "print(\"\\nTitles Dataset Description:\")\n",
        "print(titles.describe())\n"
      ],
      "metadata": {
        "id": "DnOaZdaE5Q5t"
      },
      "execution_count": null,
      "outputs": []
    },
    {
      "cell_type": "markdown",
      "source": [
        "### Variables Description"
      ],
      "metadata": {
        "id": "PBTbrJXOngz2"
      }
    },
    {
      "cell_type": "markdown",
      "source": [
        "The Credits dataset (credits.csv) contains information about people involved in movies and TV shows. It includes person_id (unique identifier for a person), id (title identifier), name (person’s name), character (name of the character played, if applicable), and role (job type like actor, director, etc.).\n",
        "\n",
        "The Titles dataset (titles.csv) provides details about movies and shows. It includes id (unique title identifier), title (name of the movie/show), type (movie or show), description (short summary), release_year (year of release), and age_certification (age rating like PG, R, etc.). It also has runtime (duration in minutes), genres (categories like action, drama, etc.), and production_countries (where it was made). Additionally, it includes seasons (only for TV shows), imdb_id, imdb_score, imdb_votes (IMDb data), and tmdb_popularity, tmdb_score (TMDb data)."
      ],
      "metadata": {
        "id": "aJV4KIxSnxay"
      }
    },
    {
      "cell_type": "markdown",
      "source": [
        "### Check Unique Values for each variable."
      ],
      "metadata": {
        "id": "u3PMJOP6ngxN"
      }
    },
    {
      "cell_type": "code",
      "source": [
        "import pandas as pd\n",
        "\n",
        "# Load the datasets\n",
        "credits = pd.read_csv(\"/credits.csv\")\n",
        "titles = pd.read_csv(\"/titles.csv\")\n",
        "\n",
        "# Check unique values count for each column\n",
        "print(\"Unique Values in Credits Dataset:\")\n",
        "print(credits.nunique())\n",
        "\n",
        "print(\"\\nUnique Values in Titles Dataset:\")\n",
        "print(titles.nunique())\n"
      ],
      "metadata": {
        "id": "zms12Yq5n-jE"
      },
      "execution_count": null,
      "outputs": []
    },
    {
      "cell_type": "markdown",
      "source": [
        "## 3. ***Data Wrangling***"
      ],
      "metadata": {
        "id": "dauF4eBmngu3"
      }
    },
    {
      "cell_type": "markdown",
      "source": [
        "### Data Wrangling Code"
      ],
      "metadata": {
        "id": "bKJF3rekwFvQ"
      }
    },
    {
      "cell_type": "code",
      "source": [
        "import pandas as pd\n",
        "\n",
        "# Load the datasets\n",
        "credits = pd.read_csv(\"/credits.csv\")\n",
        "titles = pd.read_csv(\"/titles.csv\")\n",
        "\n",
        "# 1️⃣ Remove Duplicates\n",
        "credits.drop_duplicates(inplace=True)\n",
        "titles.drop_duplicates(inplace=True)\n",
        "\n",
        "# 2️⃣ Handle Missing Values Smartly\n",
        "credits[\"character\"].fillna(\"Unknown\", inplace=True)  # Fill missing character names with \"Unknown\"\n",
        "\n",
        "titles.fillna({\n",
        "    \"age_certification\": \"Not Rated\",  # Replace missing age ratings\n",
        "    \"seasons\": 0,  # Movies don't have seasons, so 0\n",
        "    \"imdb_score\": titles[\"imdb_score\"].median(),  # Use median for IMDb score\n",
        "    \"tmdb_score\": titles[\"tmdb_score\"].median(),  # Use median for TMDb score\n",
        "    \"imdb_votes\": titles[\"imdb_votes\"].median(),  # Fill missing votes with median\n",
        "    \"tmdb_popularity\": titles[\"tmdb_popularity\"].median()  # Use median for popularity score\n",
        "}, inplace=True)\n",
        "\n",
        "# 3️⃣ Convert Data Types for Correct Analysis\n",
        "titles = titles.astype({\n",
        "    \"release_year\": \"int32\",\n",
        "    \"seasons\": \"int32\",\n",
        "    \"imdb_score\": \"float32\",\n",
        "    \"tmdb_score\": \"float32\",\n",
        "    \"imdb_votes\": \"int32\",\n",
        "    \"tmdb_popularity\": \"float32\"\n",
        "})\n",
        "\n",
        "# 4️⃣ Normalize Text Data for Consistency\n",
        "titles[\"title\"] = titles[\"title\"].str.title()  # Capitalize each word in title\n",
        "titles[\"genres\"] = titles[\"genres\"].str.lower()  # Convert genres to lowercase\n",
        "titles[\"production_countries\"] = titles[\"production_countries\"].str.replace(\"[\", \"\").str.replace(\"]\", \"\").str.replace(\"'\", \"\")  # Clean country names\n",
        "\n",
        "\n",
        "# ✅ Data is Cleaned & Ready for Analysis\n",
        "print(\"Credits Dataset Ready:\")\n",
        "print(credits.info())\n",
        "\n",
        "print(\"\\n Titles Dataset Ready:\")\n",
        "print(titles.info())\n"
      ],
      "metadata": {
        "id": "wk-9a2fpoLcV"
      },
      "execution_count": null,
      "outputs": []
    },
    {
      "cell_type": "markdown",
      "source": [
        "### What all manipulations have you done and insights you found?"
      ],
      "metadata": {
        "id": "MSa1f5Uengrz"
      }
    },
    {
      "cell_type": "markdown",
      "source": [
        " Data Manipulations Done & Insights Found\n",
        "\n",
        "1️⃣ Removed Duplicates\n",
        "\n",
        "✅ Action: Eliminated duplicate rows in both credits.csv and titles.csv.\n",
        "\n",
        "🔍 Insight: Ensures unique records and prevents biased analysis.\n",
        "\n",
        "\n",
        "2️⃣ Handled Missing Values\n",
        "\n",
        "✅ Action:\n",
        "\n",
        "Filled missing character values in credits.csv with \"Unknown\".\n",
        "Replaced missing age_certification in titles.csv with \"Not Rated\".\n",
        "Filled missing seasons with 0 (since movies don’t have seasons).\n",
        "Replaced missing IMDb & TMDb scores/votes/popularity with median values.\n",
        "\n",
        "🔍 Insight: Preserving data instead of dropping rows prevents data loss while ensuring meaningful analysis.\n",
        "\n",
        "\n",
        "3️⃣ Converted Data Types\n",
        "\n",
        "✅ Action:\n",
        "\n",
        "Converted release_year, seasons, and imdb_votes to integers.\n",
        "Converted imdb_score, tmdb_score, and tmdb_popularity to floats for proper numerical analysis.\n",
        "\n",
        "🔍 Insight: Optimizing data types reduces memory usage and speeds up processing.\n",
        "\n",
        "\n",
        "4️⃣ Normalized Text Data\n",
        "\n",
        "✅ Action:\n",
        "\n",
        "Capitalized title names for consistency.\n",
        "Converted genres to lowercase to avoid case-sensitive mismatches.\n",
        "Cleaned production_countries by removing extra brackets and quotes.\n",
        "\n",
        "🔍 Insight: Standardized text formatting makes filtering, grouping, and analysis more accurate.\n",
        "\n",
        "📌 Key Insights from Data Cleaning\n",
        "\n",
        "🔹 Many shows have missing age certifications, indicating possible regional rating variations.\n",
        "\n",
        "🔹 IMDb and TMDb scores have some missing values, which could affect rating-based recommendations.\n",
        "\n",
        "🔹 The seasons column is mostly empty (for movies), so it’s only relevant for TV shows.\n",
        "\n",
        "🔹 Text inconsistencies (like different cases in title and genres) could have led to incorrect groupings if not normalized."
      ],
      "metadata": {
        "id": "LbyXE7I1olp8"
      }
    },
    {
      "cell_type": "markdown",
      "source": [
        "## ***4. Data Vizualization, Storytelling & Experimenting with charts : Understand the relationships between variables***"
      ],
      "metadata": {
        "id": "GF8Ens_Soomf"
      }
    },
    {
      "cell_type": "markdown",
      "source": [
        "#### Chart - 1"
      ],
      "metadata": {
        "id": "0wOQAZs5pc--"
      }
    },
    {
      "cell_type": "code",
      "source": [
        "import pandas as pd\n",
        "import matplotlib.pyplot as plt\n",
        "\n",
        "# Load the dataset\n",
        "titles_path = \"/titles.csv\"\n",
        "titles_df = pd.read_csv(titles_path)\n",
        "\n",
        "# Count the number of titles per release year\n",
        "titles_per_year = titles_df[\"release_year\"].value_counts().sort_index()\n",
        "\n",
        "# Plot the bar chart\n",
        "plt.figure(figsize=(12, 6))\n",
        "plt.bar(titles_per_year.index, titles_per_year.values, color=\"skyblue\")\n",
        "plt.xlabel(\"Release Year\")\n",
        "plt.ylabel(\"Number of Titles\")\n",
        "plt.title(\"Number of Movies and Shows Released Per Year\")\n",
        "plt.grid(axis=\"y\", linestyle=\"--\", alpha=0.7)\n",
        "plt.show()\n"
      ],
      "metadata": {
        "id": "7v_ESjsspbW7"
      },
      "execution_count": null,
      "outputs": []
    },
    {
      "cell_type": "markdown",
      "source": [
        "##### 1. Why did you pick the specific chart?"
      ],
      "metadata": {
        "id": "K5QZ13OEpz2H"
      }
    },
    {
      "cell_type": "markdown",
      "source": [
        "A bar chart is an excellent choice for visualizing the number of movie and show releases over the years. Since release years represent categorical data, a bar chart effectively captures the frequency distribution, making it easy to observe patterns and trends. This visualization helps identify peaks and declines in content production, which would be difficult to interpret from raw numbers alone. Additionally, bar charts allow for clear comparisons between different years, making it simple to track industry growth or decline."
      ],
      "metadata": {
        "id": "XESiWehPqBRc"
      }
    },
    {
      "cell_type": "markdown",
      "source": [
        "##### 2. What is/are the insight(s) found from the chart?"
      ],
      "metadata": {
        "id": "lQ7QKXXCp7Bj"
      }
    },
    {
      "cell_type": "markdown",
      "source": [
        "The bar chart reveals a significant increase in the number of movies and shows produced in recent years, suggesting the expansion of the media and entertainment industry. This could be attributed to the rise of streaming platforms, technological advancements, and increased global demand for diverse content. Additionally, the lower number of releases in older years may reflect historical limitations in production, fewer studios, and lack of advanced filmmaking technology at that time. Another key insight is that the highest spikes in content production might coincide with the emergence of digital platforms, allowing for easier content creation and distribution.\n",
        "\n"
      ],
      "metadata": {
        "id": "C_j1G7yiqdRP"
      }
    },
    {
      "cell_type": "markdown",
      "source": [
        "##### 3. Will the gained insights help creating a positive business impact?\n",
        "Are there any insights that lead to negative growth? Justify with specific reason."
      ],
      "metadata": {
        "id": "448CDAPjqfQr"
      }
    },
    {
      "cell_type": "markdown",
      "source": [
        "Positive Business Impact: The increasing trend in content production highlights a growing market, presenting opportunities for media companies, streaming platforms, and content creators to invest in new projects. Understanding this trend enables businesses to make informed decisions about content creation, acquisitions, and marketing strategies. Companies can leverage the demand for entertainment by producing high-quality, diverse content to capture audience interest and maximize revenue.\n",
        "\n",
        "Potential Negative Growth: If the number of releases has begun to decline in recent years, it could indicate market saturation. A saturated market results in heightened competition among production houses, making it more challenging for new entrants to achieve profitability. Additionally, audience fatigue due to excessive content availability may lead to reduced viewer engagement, affecting revenue and long-term sustainability. If companies fail to adapt to changing consumer preferences, they might struggle to maintain relevance in an increasingly competitive industry.\n",
        "\n",
        "Final Justification:\n",
        "While an increase in content production suggests a growing market, companies must balance quantity with quality to avoid oversaturation. Investing in data-driven content strategies, audience insights, and emerging technologies can help businesses sustain positive growth despite competition. However, failure to innovate or differentiate content could lead to stagnation or declining profits"
      ],
      "metadata": {
        "id": "3cspy4FjqxJW"
      }
    },
    {
      "cell_type": "markdown",
      "source": [
        "#### Chart - 2"
      ],
      "metadata": {
        "id": "KSlN3yHqYklG"
      }
    },
    {
      "cell_type": "code",
      "source": [
        "# MOVIES Vs SHOWS PIECHART\n",
        "import pandas as pd\n",
        "import matplotlib.pyplot as plt\n",
        "\n",
        "# Load the dataset\n",
        "titles_path = \"/titles.csv\"\n",
        "titles_df = pd.read_csv(titles_path)\n",
        "\n",
        "# Count the number of movies and shows\n",
        "content_type_counts = titles_df[\"type\"].value_counts()\n",
        "\n",
        "# Plot the pie chart\n",
        "plt.figure(figsize=(8, 8))\n",
        "plt.pie(content_type_counts, labels=content_type_counts.index, autopct=\"%1.1f%%\",\n",
        "        colors=[\"lightblue\", \"lightcoral\"], startangle=140, wedgeprops={'edgecolor': 'black'})\n",
        "plt.title(\"Distribution of Movies vs. Shows\")\n",
        "plt.show()\n"
      ],
      "metadata": {
        "id": "R4YgtaqtYklH"
      },
      "execution_count": null,
      "outputs": []
    },
    {
      "cell_type": "markdown",
      "source": [
        "##### 1. Why did you pick the specific chart?"
      ],
      "metadata": {
        "id": "t6dVpIINYklI"
      }
    },
    {
      "cell_type": "markdown",
      "source": [
        "A pie chart is ideal for representing proportions and distributions within a dataset. Since the goal is to compare the share of movies versus shows in the dataset, a pie chart effectively conveys the percentage contribution of each category in a visually intuitive manner. It allows us to quickly grasp the relative dominance of one type over another, making it easier to analyze the composition of the content."
      ],
      "metadata": {
        "id": "5aaW0BYyYklI"
      }
    },
    {
      "cell_type": "markdown",
      "source": [
        "##### 2. What is/are the insight(s) found from the chart?"
      ],
      "metadata": {
        "id": "ijmpgYnKYklI"
      }
    },
    {
      "cell_type": "markdown",
      "source": [
        "* The chart reveals whether movies or shows make up the larger portion of the dataset.\n",
        "* If movies have a higher percentage, it indicates that the industry still focuses more on standalone film content.\n",
        "* If shows dominate, it suggests a shift towards serialized content, which could be attributed to the growing popularity of streaming platforms that favor long-term viewer engagement.\n",
        "* The balance (or imbalance) between movies and shows also provides insight into consumer preferences and industry production strategies.\n",
        "\n",
        "\n"
      ],
      "metadata": {
        "id": "PSx9atu2YklI"
      }
    },
    {
      "cell_type": "markdown",
      "source": [
        "##### 3. Will the gained insights help creating a positive business impact?\n",
        "Are there any insights that lead to negative growth? Justify with specific reason."
      ],
      "metadata": {
        "id": "-JiQyfWJYklI"
      }
    },
    {
      "cell_type": "markdown",
      "source": [
        "Positive Business Impact:\n",
        "\n",
        "If shows dominate, streaming platforms can capitalize on binge-watching trends, leading to higher user retention and engagement.\n",
        "If movies have a higher share, businesses can focus on producing blockbuster films that attract large audiences in a short period.\n",
        "Understanding the distribution of content types helps businesses align their production strategies with audience preferences, ensuring optimal investment in new projects.\n",
        "\n",
        "Potential Negative Growth & Justification:\n",
        "\n",
        "If the industry is oversaturated with one category (either movies or shows), it could lead to audience fatigue.\n",
        "For instance, if too many long series are being produced while viewers prefer short, standalone content, platforms may struggle to retain their audience.\n",
        "Similarly, an underrepresentation of one category may result in missed opportunities for businesses looking to attract a diverse audience.\n",
        "\n",
        "\n",
        "Justification: An imbalanced content distribution can impact long-term engagement. If consumers do not find variety, they might switch platforms or reduce content consumption, ultimately affecting revenue. To maintain success, companies must produce a balanced mix of both movies and shows to meet evolving audience demands."
      ],
      "metadata": {
        "id": "BcBbebzrYklV"
      }
    },
    {
      "cell_type": "markdown",
      "source": [
        "#### Chart - 3"
      ],
      "metadata": {
        "id": "EM7whBJCYoAo"
      }
    },
    {
      "cell_type": "code",
      "source": [
        "import pandas as pd\n",
        "import matplotlib.pyplot as plt\n",
        "from collections import Counter\n",
        "\n",
        "# Load the dataset\n",
        "titles_path = \"/titles.csv\"\n",
        "titles_df = pd.read_csv(titles_path)\n",
        "\n",
        "# Split genres and count occurrences\n",
        "genre_counts = Counter()\n",
        "titles_df[\"genres\"] = titles_df[\"genres\"].fillna('')  # Handle NaN values\n",
        "titles_df[\"genres\"].apply(lambda x: genre_counts.update(x.split(',')))\n",
        "\n",
        "# Get the top 10 genres\n",
        "top_genres = genre_counts.most_common(10)\n",
        "genres, counts = zip(*top_genres)\n",
        "\n",
        "# Plot the bar chart\n",
        "plt.figure(figsize=(10, 6))\n",
        "plt.barh(genres, counts, color='skyblue', edgecolor='black')\n",
        "plt.xlabel(\"Number of Titles\")\n",
        "plt.ylabel(\"Genres\")\n",
        "plt.title(\"Top 10 Most Popular Genres\")\n",
        "plt.gca().invert_yaxis()  # Invert for better readability\n",
        "plt.show()"
      ],
      "metadata": {
        "id": "t6GMdE67YoAp"
      },
      "execution_count": null,
      "outputs": []
    },
    {
      "cell_type": "markdown",
      "source": [
        "##### 1. Why did you pick the specific chart?"
      ],
      "metadata": {
        "id": "fge-S5ZAYoAp"
      }
    },
    {
      "cell_type": "markdown",
      "source": [
        "A pie chart is an ideal choice for visualizing the proportion of different content types (Movies vs. Shows) because it clearly presents the relative distribution of categories. Since we are comparing two distinct groups, a pie chart effectively highlights which type dominates the dataset. This visualization provides an intuitive and immediate understanding of how content is distributed, making it easy to assess trends in media production."
      ],
      "metadata": {
        "id": "5dBItgRVYoAp"
      }
    },
    {
      "cell_type": "markdown",
      "source": [
        "##### 2. What is/are the insight(s) found from the chart?"
      ],
      "metadata": {
        "id": "85gYPyotYoAp"
      }
    },
    {
      "cell_type": "markdown",
      "source": [
        "* The chart reveals whether movies or shows make up the larger portion of the dataset.\n",
        "* If movies dominate, it suggests that standalone films are more common in the industry.\n",
        "* If shows have a larger share, it could indicate the growing popularity of serialized content, likely driven by streaming services that focus on long-term viewer engagement.\n",
        "* This insight helps understand industry trends, consumer preferences, and production strategies."
      ],
      "metadata": {
        "id": "4jstXR6OYoAp"
      }
    },
    {
      "cell_type": "markdown",
      "source": [
        "##### 3. Will the gained insights help creating a positive business impact?\n",
        "Are there any insights that lead to negative growth? Justify with specific reason."
      ],
      "metadata": {
        "id": "RoGjAbkUYoAp"
      }
    },
    {
      "cell_type": "markdown",
      "source": [
        "Positive Business Impact:\n",
        "\n",
        "If shows dominate, streaming platforms can capitalize on binge-watching trends, leading to higher user retention and engagement.\n",
        "If movies have a higher share, businesses can focus on producing blockbuster films that attract large audiences in a short period.\n",
        "Understanding the distribution of content types helps businesses align their production strategies with audience preferences, ensuring optimal investment in new projects.\n",
        "\n",
        "Potential Negative Growth :\n",
        "\n",
        "If the industry is oversaturated with one category (either movies or shows), it could lead to audience fatigue.\n",
        "For instance, if too many long series are being produced while viewers prefer short, standalone content, platforms may struggle to retain their audience.\n",
        "Similarly, an underrepresentation of one category may result in missed opportunities for businesses looking to attract a diverse audience.\n",
        "\n",
        "Justification: An imbalanced content distribution can impact long-term engagement. If consumers do not find variety, they might switch platforms or reduce content consumption, ultimately affecting revenue. To maintain success, companies must produce a balanced mix of both movies and shows to meet evolving audience demands."
      ],
      "metadata": {
        "id": "zfJ8IqMcYoAp"
      }
    },
    {
      "cell_type": "markdown",
      "source": [
        "#### Chart - 4"
      ],
      "metadata": {
        "id": "4Of9eVA-YrdM"
      }
    },
    {
      "cell_type": "code",
      "source": [
        "# MOVIES SHOWS TRENDS\n",
        "import pandas as pd\n",
        "import matplotlib.pyplot as plt\n",
        "\n",
        "# Load the dataset\n",
        "titles_path = \"/titles.csv\"\n",
        "titles_df = pd.read_csv(titles_path)\n",
        "\n",
        "# Drop rows with missing release years and ensure integer type\n",
        "titles_df = titles_df.dropna(subset=['release_year'])\n",
        "titles_df['release_year'] = titles_df['release_year'].astype(int)\n",
        "\n",
        "# Filter only reasonable years (e.g., 1912-2025)\n",
        "titles_df = titles_df[(titles_df['release_year'] >= 1912) & (titles_df['release_year'] <= 2025)]\n",
        "\n",
        "# Group data by release year and type\n",
        "movies_shows_trend = titles_df.groupby(['release_year', 'type']).size().unstack(fill_value=0)\n",
        "\n",
        "# Ensure data is sorted by year\n",
        "movies_shows_trend = movies_shows_trend.sort_index()\n",
        "\n",
        "# Plot the corrected line chart\n",
        "plt.figure(figsize=(12, 6))\n",
        "movies_shows_trend.plot(kind='line', marker='o', figsize=(12, 6), color=['blue', 'red'])\n",
        "plt.xlabel(\"Release Year\")\n",
        "plt.ylabel(\"Number of Titles\")\n",
        "plt.title(\"Trend of Movies vs. Shows Over the Years (Corrected)\")\n",
        "plt.legend(title=\"Type\")\n",
        "plt.grid(True, linestyle='--', alpha=0.6)\n",
        "plt.show()"
      ],
      "metadata": {
        "id": "irlUoxc8YrdO"
      },
      "execution_count": null,
      "outputs": []
    },
    {
      "cell_type": "markdown",
      "source": [
        "##### 1. Why did you pick the specific chart?"
      ],
      "metadata": {
        "id": "iky9q4vBYrdO"
      }
    },
    {
      "cell_type": "markdown",
      "source": [
        "A line chart was chosen because it is the best way to visualize trends over time. Since we are analyzing the number of movies and shows released per year, a line chart effectively highlights the growth, dips, and fluctuations in content production. Additionally, it allows us to easily compare the trends between movies and shows in a single, clear representation."
      ],
      "metadata": {
        "id": "aJRCwT6DYrdO"
      }
    },
    {
      "cell_type": "markdown",
      "source": [
        "##### 2. What is/are the insight(s) found from the chart?"
      ],
      "metadata": {
        "id": "F6T5p64dYrdO"
      }
    },
    {
      "cell_type": "markdown",
      "source": [
        "* There has been a significant rise in the number of movies and shows produced in recent years, indicating growth in the entertainment industry.\n",
        "* The early years (before 2000) had fewer releases, which could be due to limited production capabilities and fewer platforms for content distribution.\n",
        "* In the last decade, there has been an increase in show production compared to movies, likely due to the boom in streaming platforms like Netflix, Amazon Prime, and Disney+.\n",
        "* If the number of releases has started to decline in recent years, it may indicate market saturation or shifts in audience preferences."
      ],
      "metadata": {
        "id": "Xx8WAJvtYrdO"
      }
    },
    {
      "cell_type": "markdown",
      "source": [
        "##### 3. Will the gained insights help creating a positive business impact?\n",
        "Are there any insights that lead to negative growth? Justify with specific reason."
      ],
      "metadata": {
        "id": "y-Ehk30pYrdP"
      }
    },
    {
      "cell_type": "markdown",
      "source": [
        "Positive Impact:\n",
        "The increasing trend in content production suggests that demand for entertainment is growing. This is a positive sign for streaming services, production houses, and investors, as it encourages more content creation and investments in media.\n",
        "The rise in TV shows over movies indicates that long-form storytelling and series formats are becoming more popular, making them a profitable segment for content creators.\n",
        "Companies can capitalize on this trend by investing in high-quality shows and leveraging streaming services for global reach.\n",
        "\n",
        "Potential Negative Growth:\n",
        "If the recent years show a decline in the number of releases, it may indicate market saturation, where too much content is available, leading to stiff competition.\n",
        "A decline could also mean changing audience behavior, with people preferring short-form content (e.g., YouTube, TikTok) over traditional movies and series.\n",
        "Additionally, high production costs and low ROI on some projects might discourage companies from investing in large-scale productions, leading to industry slowdowns.\n",
        "\n",
        "Justification:\n",
        "If the entertainment industry is oversaturated, streaming platforms may face subscriber fatigue, meaning consumers have too many options and start canceling subscriptions. To avoid negative impacts, companies must adapt strategies by focusing on unique, high-quality content rather than mass-producing shows."
      ],
      "metadata": {
        "id": "jLNxxz7MYrdP"
      }
    },
    {
      "cell_type": "markdown",
      "source": [
        "#### Chart - 5"
      ],
      "metadata": {
        "id": "bamQiAODYuh1"
      }
    },
    {
      "cell_type": "code",
      "source": [
        "# TOP ACTORS CHART\n",
        "import pandas as pd\n",
        "import matplotlib.pyplot as plt\n",
        "\n",
        "# Load the datasets\n",
        "titles_path = \"/titles.csv\"\n",
        "credits_path = \"/credits.csv\"\n",
        "titles_df = pd.read_csv(titles_path)\n",
        "credits_df = pd.read_csv(credits_path)\n",
        "\n",
        "# Merge titles and credits data on 'id' to connect movies/shows with their cast/crew\n",
        "merged_df = pd.merge(credits_df, titles_df, on=\"id\")\n",
        "\n",
        "# Filter only actors from the credits dataset\n",
        "actors_df = merged_df[merged_df[\"role\"] == \"ACTOR\"]\n",
        "\n",
        "# Count appearances of each actor and get the top 10\n",
        "top_actors = actors_df[\"name\"].value_counts().head(10)\n",
        "\n",
        "# Plot the bar chart for top 10 actors\n",
        "plt.figure(figsize=(12, 6))\n",
        "top_actors.plot(kind=\"bar\", color=\"purple\")\n",
        "plt.xlabel(\"Actor Name\")\n",
        "plt.ylabel(\"Number of Titles\")\n",
        "plt.title(\"Top 10 Most Frequently Credited Actors\")\n",
        "plt.xticks(rotation=45, ha=\"right\")\n",
        "plt.grid(axis=\"y\", linestyle=\"--\", alpha=0.7)\n",
        "plt.show()"
      ],
      "metadata": {
        "id": "TIJwrbroYuh3"
      },
      "execution_count": null,
      "outputs": []
    },
    {
      "cell_type": "markdown",
      "source": [
        "##### 1. Why did you pick the specific chart?"
      ],
      "metadata": {
        "id": "QHF8YVU7Yuh3"
      }
    },
    {
      "cell_type": "markdown",
      "source": [
        "A bar chart is the best choice for visualizing categorical data like actor names and their number of appearances. Since we are comparing the top 10 most frequently credited actors, a bar chart clearly shows the differences in the number of titles each actor has worked on. The horizontal bars make it easy to compare and identify the most prominent actors in the dataset."
      ],
      "metadata": {
        "id": "dcxuIMRPYuh3"
      }
    },
    {
      "cell_type": "markdown",
      "source": [
        "##### 2. What is/are the insight(s) found from the chart?"
      ],
      "metadata": {
        "id": "GwzvFGzlYuh3"
      }
    },
    {
      "cell_type": "markdown",
      "source": [
        "* he chart highlights the top 10 actors who have appeared in the most movies or shows.\n",
        "* Some actors have been featured in a significantly higher number of titles, showing their popularity and demand in the industry.\n",
        "* The leading actors might have played roles in long-running series or franchises, contributing to their high count.\n",
        "* The distribution suggests that the industry is often dominated by a few highly active actors, while most others have fewer appearances."
      ],
      "metadata": {
        "id": "uyqkiB8YYuh3"
      }
    },
    {
      "cell_type": "markdown",
      "source": [
        "##### 3. Will the gained insights help creating a positive business impact?\n",
        "Are there any insights that lead to negative growth? Justify with specific reason."
      ],
      "metadata": {
        "id": "qYpmQ266Yuh3"
      }
    },
    {
      "cell_type": "markdown",
      "source": [
        "Positive Impact:\n",
        "* Knowing the most frequently credited actors helps producers and streaming platforms identify high-demand talent, allowing them to make informed decisions when casting for new projects.\n",
        "* Popular actors bring brand value, increasing viewership and profitability for movies and series they are part of.\n",
        "* Streaming services like Netflix and Amazon Prime can leverage this data to recommend content based on actors who attract the most audience engagement.\n",
        "\n",
        "Potential Negative Growth:\n",
        "* Over-reliance on a few actors might indicate a lack of diversity in casting, which could lead to audience fatigue over time.\n",
        "* If the same actors dominate the industry, new talent may struggle to get opportunities, causing stagnation in creativity and innovation.\n",
        "* The industry might become risk-averse, favoring established stars over fresh talent, which can negatively impact the variety and uniqueness of content.\n",
        "\n",
        "Justification:\n",
        "While using well-known actors is a safe business strategy, excessive dependence on them can limit fresh storytelling and innovation. To balance commercial success with industry growth, production houses should promote new talent while still leveraging top actors for key roles.\n",
        "\n",
        "\n",
        "\n",
        "\n",
        "\n",
        "\n",
        "\n"
      ],
      "metadata": {
        "id": "_WtzZ_hCYuh4"
      }
    },
    {
      "cell_type": "markdown",
      "source": [
        "#### Chart - 6"
      ],
      "metadata": {
        "id": "OH-pJp9IphqM"
      }
    },
    {
      "cell_type": "code",
      "source": [
        "# CONTENT TYPE DISTRIBUTION\n",
        "import pandas as pd\n",
        "import matplotlib.pyplot as plt\n",
        "\n",
        "# Load the dataset\n",
        "titles_path = \"/titles.csv\"\n",
        "titles_df = pd.read_csv(titles_path)\n",
        "\n",
        "# Count the number of unique production countries\n",
        "top_countries = titles_df[\"production_countries\"].value_counts().head(10)\n",
        "\n",
        "# Plot a horizontal bar chart\n",
        "plt.figure(figsize=(12, 6))\n",
        "top_countries.plot(kind=\"barh\", color=\"teal\")\n",
        "plt.xlabel(\"Number of Titles\")\n",
        "plt.ylabel(\"Production Country\")\n",
        "plt.title(\"Top 10 Countries Producing the Most Titles\")\n",
        "plt.gca().invert_yaxis()\n",
        "plt.grid(axis=\"x\", linestyle=\"--\", alpha=0.7)\n",
        "plt.show()"
      ],
      "metadata": {
        "id": "kuRf4wtuphqN"
      },
      "execution_count": null,
      "outputs": []
    },
    {
      "cell_type": "markdown",
      "source": [
        "##### 1. Why did you pick the specific chart?"
      ],
      "metadata": {
        "id": "bbFf2-_FphqN"
      }
    },
    {
      "cell_type": "markdown",
      "source": [
        "A horizontal bar chart was chosen because it allows for easy comparison of categorical data, especially when dealing with long text labels like country names. Since we are analyzing the top 10 countries producing the most content, this format clearly shows the differences in production volume among them while keeping the country names readable."
      ],
      "metadata": {
        "id": "loh7H2nzphqN"
      }
    },
    {
      "cell_type": "markdown",
      "source": [
        "##### 2. What is/are the insight(s) found from the chart?"
      ],
      "metadata": {
        "id": "_ouA3fa0phqN"
      }
    },
    {
      "cell_type": "markdown",
      "source": [
        "* Certain countries, such as the United States, India, and the United Kingdom, dominate content production, likely due to their well-established film and television industries.\n",
        "* Some emerging markets are also producing a significant number of titles, indicating global expansion in the entertainment sector.\n",
        "* Countries with fewer productions may have smaller industries, lower budgets, or a focus on regional rather than global content distribution.\n",
        "* If a country is rising in the rankings, it suggests increasing investment and interest in media production from that region.\n",
        "\n"
      ],
      "metadata": {
        "id": "VECbqPI7phqN"
      }
    },
    {
      "cell_type": "markdown",
      "source": [
        "##### 3. Will the gained insights help creating a positive business impact?\n",
        "Are there any insights that lead to negative growth? Justify with specific reason."
      ],
      "metadata": {
        "id": "Seke61FWphqN"
      }
    },
    {
      "cell_type": "markdown",
      "source": [
        "Positive Impact:\n",
        "* Businesses in the streaming industry can use this insight to target top-producing countries for content acquisition and partnerships.\n",
        "* Regional content strategies can be formed by focusing on emerging markets, ensuring that localized content reaches the right audiences.\n",
        "* Knowing which countries dominate production allows companies to adapt their investment strategies, choosing whether to collaborate with top countries or invest in underrepresented markets for fresh content.\n",
        "\n",
        "Potential Negative Growth:\n",
        "* Over-dependence on a few top-producing countries could lead to content saturation, where audiences feel overwhelmed by similar types of content.\n",
        "* If smaller markets are neglected, companies might miss out on niche content opportunities that could cater to unique cultural preferences.\n",
        "* Some countries might have strict regulations or censorship policies affecting the global reach of their productions, impacting revenue potential.\n",
        "\n",
        "Justification:\n",
        "While focusing on top-producing countries ensures high-quality, globally appealing content, diversification is key. Expanding production into less dominant markets can bring fresh storytelling styles, cultural diversity, and new audience engagement opportunities. This helps avoid stagnation and keeps the industry innovative and competitive."
      ],
      "metadata": {
        "id": "DW4_bGpfphqN"
      }
    },
    {
      "cell_type": "markdown",
      "source": [
        "#### Chart - 7"
      ],
      "metadata": {
        "id": "PIIx-8_IphqN"
      }
    },
    {
      "cell_type": "code",
      "source": [
        "# MOST COMMON ROLES\n",
        "import pandas as pd\n",
        "import matplotlib.pyplot as plt\n",
        "\n",
        "# Load the datasets\n",
        "titles_path = \"/titles.csv\"\n",
        "credits_path = \"/credits.csv\"\n",
        "titles_df = pd.read_csv(titles_path)\n",
        "credits_df = pd.read_csv(credits_path)\n",
        "\n",
        "# Merge titles and credits data on 'id'\n",
        "merged_df = pd.merge(credits_df, titles_df, on=\"id\")\n",
        "\n",
        "# Count the occurrences of each role in the dataset (excluding minor categories)\n",
        "role_counts = merged_df[\"role\"].value_counts()\n",
        "\n",
        "# Select the top 10 roles if there are more than two unique roles\n",
        "num_roles = min(10, len(role_counts))\n",
        "top_roles = role_counts.head(num_roles)\n",
        "\n",
        "# Plot a bar chart for the most common roles\n",
        "plt.figure(figsize=(12, 6))\n",
        "top_roles.plot(kind=\"bar\", color=\"orange\")\n",
        "plt.xlabel(\"Role in Production\")\n",
        "plt.ylabel(\"Number of Credits\")\n",
        "plt.title(\"Most Common Roles in the Entertainment Industry\")\n",
        "plt.xticks(rotation=45, ha=\"right\")\n",
        "plt.grid(axis=\"y\", linestyle=\"--\", alpha=0.7)\n",
        "plt.show()\n",
        "\n"
      ],
      "metadata": {
        "id": "lqAIGUfyphqO"
      },
      "execution_count": null,
      "outputs": []
    },
    {
      "cell_type": "markdown",
      "source": [
        "##### 1. Why did you pick the specific chart?"
      ],
      "metadata": {
        "id": "t27r6nlMphqO"
      }
    },
    {
      "cell_type": "markdown",
      "source": [
        "A bar chart was chosen because it effectively displays categorical data (different roles) while allowing easy comparison between them. Since we want to analyze the most frequently credited roles in the entertainment industry, a bar chart clearly shows the distribution and ranking of these roles. It also allows us to identify whether certain roles dominate the industry."
      ],
      "metadata": {
        "id": "iv6ro40sphqO"
      }
    },
    {
      "cell_type": "markdown",
      "source": [
        "##### 2. What is/are the insight(s) found from the chart?"
      ],
      "metadata": {
        "id": "r2jJGEOYphqO"
      }
    },
    {
      "cell_type": "markdown",
      "source": [
        "* The dataset reveals that Actor and Director roles dominate the entertainment industry, suggesting that most credits in productions belong to these professions.\n",
        "* Other roles, such as Writers, Producers, and Cinematographers, might be underrepresented in the dataset or may have been categorized differently.\n",
        "* If the dataset contains mostly mainstream productions, it makes sense that Actors and Directors receive the most credits, as they are the most recognizable figures in a production.\n",
        "* The presence (or absence) of additional roles can indicate how detailed the dataset is regarding crew members."
      ],
      "metadata": {
        "id": "Po6ZPi4hphqO"
      }
    },
    {
      "cell_type": "markdown",
      "source": [
        "##### 3. Will the gained insights help creating a positive business impact?\n",
        "Are there any insights that lead to negative growth? Justify with specific reason."
      ],
      "metadata": {
        "id": "b0JNsNcRphqO"
      }
    },
    {
      "cell_type": "markdown",
      "source": [
        "Positive Impact:\n",
        "* Streaming platforms and production companies can use this insight to allocate budgets effectively, ensuring proper recognition and funding for essential roles like Actors and Directors.\n",
        "* If certain roles (e.g., Writers, Editors) appear less frequently, it could indicate an opportunity to highlight and promote these professions, leading to more balanced industry growth.\n",
        "* Talent agencies can use this data to understand demand trends and adjust their hiring strategies accordingly.\n",
        "\n",
        "Potential Negative Growth:\n",
        "* If the dataset primarily focuses on only lead roles (Actors and Directors) and ignores essential crew members (Editors, Cinematographers, Writers), it may * create an industry imbalance where some professions get overvalued while others are overlooked.\n",
        "* A lack of representation of technical roles could lead to skill shortages in specialized fields, which may negatively impact production quality in the long run.\n",
        "* If the trend of undervaluing behind-the-scenes roles continues, it might discourage people from pursuing careers in technical or creative fields like scriptwriting, set design, or editing, leading to fewer skilled professionals in those domains.\n",
        "\n",
        "Justification:\n",
        "While it’s natural for Actors and Directors to receive the most recognition, a well-balanced industry also requires strong contributions from supporting roles. Investing in a diverse talent pool (including behind-the-scenes professionals) ensures high-quality productions, creative storytelling, and long-term sustainability of the entertainment industry."
      ],
      "metadata": {
        "id": "xvSq8iUTphqO"
      }
    },
    {
      "cell_type": "markdown",
      "source": [
        "#### Chart - 8"
      ],
      "metadata": {
        "id": "BZR9WyysphqO"
      }
    },
    {
      "cell_type": "code",
      "source": [
        "#AVERAGE IMDB RATING BY GENRE\n",
        "import pandas as pd\n",
        "import matplotlib.pyplot as plt\n",
        "\n",
        "# Load the datasets\n",
        "titles_path = \"/titles.csv\"\n",
        "titles_df = pd.read_csv(titles_path)\n",
        "\n",
        "# Ensure 'imdb_score' column is numeric and drop missing values\n",
        "titles_df['imdb_score'] = pd.to_numeric(titles_df['imdb_score'], errors='coerce')\n",
        "titles_df = titles_df.dropna(subset=['imdb_score', 'genres'])\n",
        "\n",
        "# Split genres and expand them into multiple rows\n",
        "titles_df = titles_df.assign(genres=titles_df[\"genres\"].str.split(\", \")).explode(\"genres\")\n",
        "\n",
        "# Calculate average IMDb score per genre\n",
        "avg_rating_per_genre = titles_df.groupby(\"genres\")[\"imdb_score\"].mean().sort_values(ascending=False).head(10)\n",
        "\n",
        "# Plot a bar chart for the top 10 highest-rated genres\n",
        "plt.figure(figsize=(12, 6))\n",
        "avg_rating_per_genre.plot(kind=\"bar\", color=\"purple\")\n",
        "plt.xlabel(\"Genre\")\n",
        "plt.ylabel(\"Average IMDb Score\")\n",
        "plt.title(\"Top 10 Genres with the Highest Average IMDb Ratings\")\n",
        "plt.xticks(rotation=45, ha=\"right\")\n",
        "plt.grid(axis=\"y\", linestyle=\"--\", alpha=0.7)\n",
        "plt.show()"
      ],
      "metadata": {
        "id": "TdPTWpAVphqO"
      },
      "execution_count": null,
      "outputs": []
    },
    {
      "cell_type": "markdown",
      "source": [
        "##### 1. Why did you pick the specific chart?"
      ],
      "metadata": {
        "id": "jj7wYXLtphqO"
      }
    },
    {
      "cell_type": "markdown",
      "source": [
        "A bar chart was chosen because it is effective in displaying categorical data (genres) while clearly representing numerical values (average IMDb ratings). This visualization makes it easy to compare different genres and determine which ones consistently receive higher audience appreciation. The ranking format also highlights the top-performing genres, helping to identify trends in viewer preferences."
      ],
      "metadata": {
        "id": "Ob8u6rCTphqO"
      }
    },
    {
      "cell_type": "markdown",
      "source": [
        "##### 2. What is/are the insight(s) found from the chart?"
      ],
      "metadata": {
        "id": "eZrbJ2SmphqO"
      }
    },
    {
      "cell_type": "markdown",
      "source": [
        "* Certain genres, such as Documentary, History, and Biography, tend to have higher average IMDb ratings, indicating that audiences appreciate factual and well-researched content.\n",
        "* More mainstream genres, like Action or Comedy, might have lower IMDb ratings despite their popularity, possibly due to variations in storytelling quality.\n",
        "* Some niche genres receive higher ratings because they cater to specific audiences with strong engagement.\n",
        "* The trend suggests that audiences value meaningful storytelling and high-quality content over just entertainment value."
      ],
      "metadata": {
        "id": "mZtgC_hjphqO"
      }
    },
    {
      "cell_type": "markdown",
      "source": [
        "##### 3. Will the gained insights help creating a positive business impact?\n",
        "Are there any insights that lead to negative growth? Justify with specific reason."
      ],
      "metadata": {
        "id": "rFu4xreNphqO"
      }
    },
    {
      "cell_type": "markdown",
      "source": [
        "Positive Impact:\n",
        "* Streaming platforms and production houses can prioritize high-rated genres when making content acquisition or production decisions.\n",
        "* If a genre consistently receives higher ratings, it may indicate higher audience satisfaction and potential for long-term engagement, leading to better customer retention for streaming services.\n",
        "* Filmmakers can use this insight to improve scriptwriting and production strategies, ensuring they focus on genres with proven audience appreciation.\n",
        "\n",
        "Potential Negative Growth:\n",
        "* If studios focus only on high-rated genres, they may neglect commercial genres (such as Action and Comedy), which bring in more revenue despite receiving lower ratings.\n",
        "* An overemphasis on niche, high-rated genres may lead to market saturation, where too much content of the same type reduces its uniqueness and appeal.\n",
        "* Some highly rated genres may not necessarily translate into higher revenue, as IMDb ratings reflect viewer sentiment but not necessarily box office success.\n",
        "\n",
        "Justification:\n",
        "While highly rated genres indicate strong audience engagement, the entertainment industry must balance quality and profitability. A genre with moderate ratings but high commercial success (like superhero films or rom-coms) still plays a crucial role in business growth. Therefore, data-driven decisions should be balanced with market demand to ensure sustainable success."
      ],
      "metadata": {
        "id": "ey_0qi68phqO"
      }
    },
    {
      "cell_type": "markdown",
      "source": [
        "#### Chart - 9"
      ],
      "metadata": {
        "id": "YJ55k-q6phqO"
      }
    },
    {
      "cell_type": "code",
      "source": [
        "# DISTRIBUTION OF IMDB SCORES\n",
        "import pandas as pd\n",
        "import matplotlib.pyplot as plt\n",
        "import seaborn as sns\n",
        "\n",
        "# Load the dataset\n",
        "titles_path = \"/titles.csv\"\n",
        "titles_df = pd.read_csv(titles_path)\n",
        "\n",
        "# Ensure 'imdb_score' column has valid values and handle missing data\n",
        "titles_df = titles_df.dropna(subset=['imdb_score'])\n",
        "\n",
        "# Plot IMDb score distribution\n",
        "plt.figure(figsize=(10, 6))\n",
        "sns.histplot(titles_df['imdb_score'], bins=20, kde=True, color='purple')\n",
        "plt.xlabel(\"IMDb Score\")\n",
        "plt.ylabel(\"Number of Titles\")\n",
        "plt.title(\"Distribution of IMDb Scores for Movies and TV Shows\")\n",
        "plt.grid(axis=\"y\", linestyle=\"--\", alpha=0.7)\n",
        "plt.show()\n",
        "\n",
        "\n"
      ],
      "metadata": {
        "id": "B2aS4O1ophqO"
      },
      "execution_count": null,
      "outputs": []
    },
    {
      "cell_type": "markdown",
      "source": [
        "##### 1. Why did you pick the specific chart?"
      ],
      "metadata": {
        "id": "gCFgpxoyphqP"
      }
    },
    {
      "cell_type": "markdown",
      "source": [
        "A histogram with a KDE curve was chosen because it effectively visualizes the distribution of IMDb scores across all movies and TV shows. This chart helps in understanding how content is rated—whether most titles have high, low, or average ratings—and provides insights into the general quality of content available in the dataset. The KDE curve further smooths out the data to show trends clearly."
      ],
      "metadata": {
        "id": "TVxDimi2phqP"
      }
    },
    {
      "cell_type": "markdown",
      "source": [
        "##### 2. What is/are the insight(s) found from the chart?"
      ],
      "metadata": {
        "id": "OVtJsKN_phqQ"
      }
    },
    {
      "cell_type": "markdown",
      "source": [
        "* The chart shows the most common IMDb ratings for movies and TV shows. If the distribution is skewed towards higher ratings, it indicates that many titles are well-received by audiences.\n",
        "* If the distribution is more centered around the middle values (5-7), it suggests that most titles have moderate ratings, meaning a mix of good and average content.\n",
        "* If a significant number of titles have very low ratings (below 4), it could indicate that there are many poorly rated movies/TV shows in the dataset.\n",
        "* The presence of a peak around certain IMDb scores may indicate a trend in audience preferences or possible rating inflation in certain genres."
      ],
      "metadata": {
        "id": "ngGi97qjphqQ"
      }
    },
    {
      "cell_type": "markdown",
      "source": [
        "##### 3. Will the gained insights help creating a positive business impact?\n",
        "Are there any insights that lead to negative growth? Justify with specific reason."
      ],
      "metadata": {
        "id": "lssrdh5qphqQ"
      }
    },
    {
      "cell_type": "markdown",
      "source": [
        "Positive Impact:\n",
        "* If the majority of movies and TV shows have high ratings, it shows that quality content is being produced, which is beneficial for streaming services and production houses.\n",
        "* Understanding IMDb score distribution can help platforms recommend better-rated content to users, improving engagement and viewer satisfaction.\n",
        "* Production companies can analyze patterns in highly rated movies and create more content in similar genres or storytelling styles to maximize audience retention.\n",
        "\n",
        "Potential Negative Growth:\n",
        "* If a large portion of content has low IMDb ratings, it might indicate that many movies/shows fail to meet audience expectations, leading to reduced viewership.\n",
        "* A heavy concentration of titles around average ratings (5-7) might suggest that most content is mediocre, making it difficult for new titles to stand out.\n",
        "* If the highest-rated content comes from a single genre, it could mean that other genres are not meeting audience expectations, requiring diversification strategies.\n",
        "\n",
        "Justification:\n",
        "The IMDb score distribution provides crucial insights into viewer satisfaction and content quality. While high ratings indicate success, a large presence of low-rated content might harm a platform’s reputation and affect business growth. Thus, streaming services and production studios must balance quality improvement with market trends to sustain long-term success."
      ],
      "metadata": {
        "id": "tBpY5ekJphqQ"
      }
    },
    {
      "cell_type": "markdown",
      "source": [
        "#### Chart - 10"
      ],
      "metadata": {
        "id": "U2RJ9gkRphqQ"
      }
    },
    {
      "cell_type": "code",
      "source": [
        "import pandas as pd\n",
        "import matplotlib.pyplot as plt\n",
        "import seaborn as sns\n",
        "\n",
        "# Load the dataset\n",
        "titles_path = \"/titles.csv\"\n",
        "titles_df = pd.read_csv(titles_path)\n",
        "\n",
        "# Ensure 'imdb_score' and 'tmdb_score' columns have valid values and handle missing data\n",
        "titles_df = titles_df.dropna(subset=['imdb_score', 'tmdb_score'])\n",
        "\n",
        "# Plot the relationship between IMDb and TMDb scores\n",
        "plt.figure(figsize=(8, 5))\n",
        "sns.scatterplot(x=titles_df['imdb_score'], y=titles_df['tmdb_score'], alpha=0.5, color='purple')\n",
        "plt.xlabel(\"IMDb Score\")\n",
        "plt.ylabel(\"TMDb Score\")\n",
        "plt.title(\"Correlation Between IMDb and TMDb Scores\")\n",
        "plt.grid(True, linestyle=\"--\", alpha=0.7)\n",
        "plt.show()"
      ],
      "metadata": {
        "id": "GM7a4YP4phqQ"
      },
      "execution_count": null,
      "outputs": []
    },
    {
      "cell_type": "markdown",
      "source": [
        "##### 1. Why did you pick the specific chart?"
      ],
      "metadata": {
        "id": "1M8mcRywphqQ"
      }
    },
    {
      "cell_type": "markdown",
      "source": [
        "A scatter plot was chosen because it effectively visualizes the relationship between IMDb scores and TMDb scores. Since both ratings measure audience perception, comparing them can reveal how closely they align. If the points form a linear trend, it indicates a strong correlation, whereas scattered points suggest varied opinions across platforms."
      ],
      "metadata": {
        "id": "8agQvks0phqQ"
      }
    },
    {
      "cell_type": "markdown",
      "source": [
        "##### 2. What is/are the insight(s) found from the chart?"
      ],
      "metadata": {
        "id": "tgIPom80phqQ"
      }
    },
    {
      "cell_type": "markdown",
      "source": [
        "* If the plot shows a strong positive correlation (points forming a line), it means IMDb and TMDb scores are closely aligned, indicating that audiences rate content similarly on both platforms.\n",
        "* If the plot is widely scattered, it suggests that IMDb and TMDb ratings differ significantly, possibly due to differences in rating systems, user demographics, or platform biases.\n",
        "* Clusters of points at high or low scores could indicate certain types of content receiving consistent ratings across platforms, while outliers may highlight controversial or polarizing titles."
      ],
      "metadata": {
        "id": "Qp13pnNzphqQ"
      }
    },
    {
      "cell_type": "markdown",
      "source": [
        "##### 3. Will the gained insights help creating a positive business impact?\n",
        "Are there any insights that lead to negative growth? Justify with specific reason."
      ],
      "metadata": {
        "id": "JMzcOPDDphqR"
      }
    },
    {
      "cell_type": "markdown",
      "source": [
        "Positive Impact:\n",
        "* If the correlation is strong, businesses can use either IMDb or TMDb ratings interchangeably to predict audience preferences. This simplifies recommendation models for streaming platforms.\n",
        "* Understanding rating discrepancies can help companies adjust marketing strategies—for example, if a movie has high TMDb ratings but low IMDb ratings, they can focus on the IMDb audience for improvement.\n",
        "* A high correlation assures content creators that good ratings on one platform will likely reflect on another, helping them assess their content's reception.\n",
        "\n",
        "Potential Negative Growth:\n",
        "* A low or inconsistent correlation suggests that one platform’s ratings might not be reliable in predicting audience perception on another platform.\n",
        "* If TMDb consistently gives higher ratings than IMDb, it could indicate rating inflation, meaning audiences might not fully trust TMDb ratings, leading to skepticism about content quality.\n",
        "* If certain content gets highly polarized ratings (e.g., very high on IMDb but low on TMDb), it could indicate regional, demographic, or review-bombing biases, which businesses must consider to avoid misleading marketing.\n",
        "\n",
        "Justification:\n",
        "The correlation between IMDb and TMDb ratings provides insights into audience perception, rating reliability, and potential biases. A strong correlation benefits content prediction models, while inconsistencies require deeper analysis to understand audience preferences across platforms. This helps businesses refine content strategies and improve user engagement."
      ],
      "metadata": {
        "id": "R4Ka1PC2phqR"
      }
    },
    {
      "cell_type": "markdown",
      "source": [
        "#### Chart - 11"
      ],
      "metadata": {
        "id": "x-EpHcCOp1ci"
      }
    },
    {
      "cell_type": "code",
      "source": [
        "import pandas as pd\n",
        "import matplotlib.pyplot as plt\n",
        "import seaborn as sns\n",
        "from collections import Counter\n",
        "\n",
        "# Load the dataset\n",
        "titles_path = \"/titles.csv\"\n",
        "titles_df = pd.read_csv(titles_path)\n",
        "\n",
        "# Ensure 'production_countries' column has valid values and handle missing data\n",
        "titles_df = titles_df.dropna(subset=['production_countries'])\n",
        "\n",
        "# Split countries and count occurrences\n",
        "country_counts = Counter()\n",
        "for countries in titles_df['production_countries']:\n",
        "    for country in str(countries).split(','):\n",
        "        country_counts[country.strip()] += 1\n",
        "\n",
        "# Convert to DataFrame\n",
        "country_df = pd.DataFrame(country_counts.items(), columns=['Country', 'Count'])\n",
        "country_df = country_df.sort_values(by='Count', ascending=False).head(10)  # Top 10 countries\n",
        "\n",
        "# Plot a bar chart\n",
        "plt.figure(figsize=(10, 5))\n",
        "sns.barplot(x=country_df['Country'], y=country_df['Count'], palette='coolwarm')\n",
        "plt.xlabel(\"Country\")\n",
        "plt.ylabel(\"Number of Titles Produced\")\n",
        "plt.title(\"Top 10 Countries by Content Production\")\n",
        "plt.xticks(rotation=45)\n",
        "plt.grid(axis=\"y\", linestyle=\"--\", alpha=0.7)\n",
        "plt.show()"
      ],
      "metadata": {
        "id": "mAQTIvtqp1cj"
      },
      "execution_count": null,
      "outputs": []
    },
    {
      "cell_type": "markdown",
      "source": [
        "##### 1. Why did you pick the specific chart?"
      ],
      "metadata": {
        "id": "X_VqEhTip1ck"
      }
    },
    {
      "cell_type": "markdown",
      "source": [
        "A bar chart is the best choice because it clearly shows the distribution of content production across different countries. Since the dataset contains country-wise production data, a bar chart helps compare the top 10 content-producing countries in an easy-to-read manner. The sorted bars provide a quick visual understanding of which regions dominate the media industry."
      ],
      "metadata": {
        "id": "-vsMzt_np1ck"
      }
    },
    {
      "cell_type": "markdown",
      "source": [
        "##### 2. What is/are the insight(s) found from the chart?"
      ],
      "metadata": {
        "id": "8zGJKyg5p1ck"
      }
    },
    {
      "cell_type": "markdown",
      "source": [
        "* Some countries produce significantly more content than others, indicating a strong media and entertainment industry in those regions.\n",
        "* The USA, UK, and India are likely to be among the top contributors, given their well-established film and TV industries.\n",
        "* Countries with fewer productions may have smaller entertainment industries, limited funding, or regional restrictions on content creation."
      ],
      "metadata": {
        "id": "ZYdMsrqVp1ck"
      }
    },
    {
      "cell_type": "markdown",
      "source": [
        "##### 3. Will the gained insights help creating a positive business impact?\n",
        "Are there any insights that lead to negative growth? Justify with specific reason."
      ],
      "metadata": {
        "id": "PVzmfK_Ep1ck"
      }
    },
    {
      "cell_type": "markdown",
      "source": [
        "Positive Impact:\n",
        "* Companies looking to expand their media production can focus on countries with high output, as these regions have the necessary infrastructure, talent, and audience base.\n",
        "* Streaming platforms can tailor content libraries by understanding which regions produce the most content and what genres are popular there.\n",
        "* Investors can identify growing markets where content production is increasing, helping them make strategic decisions on partnerships and distribution.\n",
        "\n",
        "Potential Negative Growth:\n",
        "* If certain countries have low content production, it might indicate regulatory restrictions, lack of funding, or lower demand for entertainment.\n",
        "* Heavy concentration of content in a few countries might lead to cultural homogenization, limiting diversity in global entertainment.\n",
        "* Smaller industries may struggle to compete with dominant markets, leading to fewer opportunities for local filmmakers and actors.\n",
        "* This analysis can help businesses navigate opportunities and challenges in the global media landscape.\n",
        "\n",
        "Justification : Thus, while the insights help businesses make data-driven decisions, they also highlight challenges related to market concentration, competition, and diversity that must be addressed for a balanced and inclusive media industry"
      ],
      "metadata": {
        "id": "druuKYZpp1ck"
      }
    },
    {
      "cell_type": "markdown",
      "source": [
        "#### Chart - 12"
      ],
      "metadata": {
        "id": "n3dbpmDWp1ck"
      }
    },
    {
      "cell_type": "code",
      "source": [
        "import pandas as pd\n",
        "import matplotlib.pyplot as plt\n",
        "import seaborn as sns\n",
        "from collections import Counter\n",
        "\n",
        "# Load the dataset\n",
        "credits_path = \"/credits.csv\"\n",
        "credits_df = pd.read_csv(credits_path)\n",
        "\n",
        "# Ensure 'role' and 'name' columns have valid values and handle missing data\n",
        "credits_df = credits_df.dropna(subset=['role', 'name'])\n",
        "\n",
        "# Filter only actors\n",
        "actor_df = credits_df[credits_df['role'].str.lower() == 'actor']\n",
        "\n",
        "# Count occurrences of each actor\n",
        "actor_counts = Counter(actor_df['name'])\n",
        "\n",
        "# Convert to DataFrame\n",
        "actor_df = pd.DataFrame(actor_counts.items(), columns=['Actor', 'Count'])\n",
        "actor_df = actor_df.sort_values(by='Count', ascending=False).head(10)  # Top 10 actors\n",
        "\n",
        "# Plot a bar chart\n",
        "plt.figure(figsize=(10, 5))\n",
        "sns.barplot(x=actor_df['Actor'], y=actor_df['Count'], palette='viridis')\n",
        "plt.xlabel(\"Actor\")\n",
        "plt.ylabel(\"Number of Credits\")\n",
        "plt.title(\"Top 10 Most Frequently Credited Actors\")\n",
        "plt.xticks(rotation=45, ha=\"right\")\n",
        "plt.grid(axis=\"y\", linestyle=\"--\", alpha=0.7)\n",
        "plt.show()"
      ],
      "metadata": {
        "id": "bwevp1tKp1ck"
      },
      "execution_count": null,
      "outputs": []
    },
    {
      "cell_type": "markdown",
      "source": [
        "##### 1. Why did you pick the specific chart?"
      ],
      "metadata": {
        "id": "ylSl6qgtp1ck"
      }
    },
    {
      "cell_type": "markdown",
      "source": [
        "A bar chart is the best choice because it allows us to compare the number of times different actors have been credited in the dataset. Since the dataset contains actor names with their frequency of appearances, a bar chart makes it easy to identify the most frequently credited actors at a glance. The horizontal format ensures clarity, especially when dealing with long names."
      ],
      "metadata": {
        "id": "m2xqNkiQp1ck"
      }
    },
    {
      "cell_type": "markdown",
      "source": [
        "##### 2. What is/are the insight(s) found from the chart?"
      ],
      "metadata": {
        "id": "ZWILFDl5p1ck"
      }
    },
    {
      "cell_type": "markdown",
      "source": [
        "* A small group of actors appear significantly more frequently than others, suggesting they may be highly sought-after or have worked on multiple projects.\n",
        "* Lesser-known actors appear fewer times, which may indicate that the industry is dominated by a few recurring stars.\n",
        "* Some actors may have higher credits due to appearing in TV series with multiple seasons, rather than standalone films."
      ],
      "metadata": {
        "id": "x-lUsV2mp1ck"
      }
    },
    {
      "cell_type": "markdown",
      "source": [
        "##### 3. Will the gained insights help creating a positive business impact?\n",
        "Are there any insights that lead to negative growth? Justify with specific reason."
      ],
      "metadata": {
        "id": "M7G43BXep1ck"
      }
    },
    {
      "cell_type": "markdown",
      "source": [
        "Positive Impact:\n",
        "* Casting Decisions: Filmmakers and producers can use this data to identify top actors who have a strong track record and fan following.\n",
        "* Marketing Strategy: Streaming platforms and production houses can leverage popular actors to attract audiences, ensuring higher engagement and viewership.\n",
        "* Talent Acquisition: Talent agencies can spot rising actors and sign them for future projects, contributing to industry growth.\n",
        "\n",
        "Potential Negative Growth & Justification:\n",
        "* Lack of Diversity: If a small group of actors dominates the industry, it may limit opportunities for emerging talent, making it difficult for newcomers to break into the business.\n",
        "* Market Saturation: Overuse of the same actors may result in audience fatigue, reducing interest in new content featuring the same faces.\n",
        "* Risk Dependence: Production companies relying on a few actors for success may face challenges if their popularity declines, affecting revenue and viewership.\n",
        "* This analysis provides valuable insights for both industry professionals and business strategists by helping them balance casting choices and identify upcoming talent for a sustainable media industry.\n",
        "\n",
        "Justification : While leveraging data on top actors helps optimize casting, marketing, and investment, it also highlights challenges related to over-saturation, dependency, and lack of diversity. A balanced approach—introducing fresh talent while retaining audience-favorite actors—is crucial for sustainable industry growth"
      ],
      "metadata": {
        "id": "5wwDJXsLp1cl"
      }
    },
    {
      "cell_type": "markdown",
      "source": [
        "#### Chart - 13"
      ],
      "metadata": {
        "id": "Ag9LCva-p1cl"
      }
    },
    {
      "cell_type": "code",
      "source": [
        "import pandas as pd\n",
        "import matplotlib.pyplot as plt\n",
        "import seaborn as sns\n",
        "\n",
        "# Load the dataset\n",
        "titles_path = \"/titles.csv\"\n",
        "titles_df = pd.read_csv(titles_path)\n",
        "\n",
        "# Selecting relevant numerical columns for correlation analysis\n",
        "numerical_columns = ['imdb_score', 'imdb_votes', 'tmdb_popularity', 'tmdb_score']\n",
        "titles_numeric = titles_df[numerical_columns].dropna()\n",
        "\n",
        "# Compute the correlation matrix\n",
        "correlation_matrix = titles_numeric.corr()\n",
        "\n",
        "# Plot a heatmap\n",
        "plt.figure(figsize=(8, 6))\n",
        "sns.heatmap(correlation_matrix, annot=True, cmap='coolwarm', fmt='.2f', linewidths=0.5)\n",
        "plt.title(\"Correlation Heatmap of IMDb and TMDb Metrics\")\n",
        "plt.show()"
      ],
      "metadata": {
        "id": "EUfxeq9-p1cl"
      },
      "execution_count": null,
      "outputs": []
    },
    {
      "cell_type": "markdown",
      "source": [
        "##### 1. Why did you pick the specific chart?"
      ],
      "metadata": {
        "id": "E6MkPsBcp1cl"
      }
    },
    {
      "cell_type": "markdown",
      "source": [
        "A heatmap is an effective way to visualize the correlation between different numerical variables in a dataset. Since IMDb and TMDb scores, votes, and popularity are all numerical, a heatmap helps identify relationships between them. Unlike scatter plots, which compare only two variables at a time, a heatmap gives a comprehensive overview of all relationships simultaneously."
      ],
      "metadata": {
        "id": "V22bRsFWp1cl"
      }
    },
    {
      "cell_type": "markdown",
      "source": [
        "##### 2. What is/are the insight(s) found from the chart?"
      ],
      "metadata": {
        "id": "2cELzS2fp1cl"
      }
    },
    {
      "cell_type": "markdown",
      "source": [
        "* IMDb score and IMDb votes show a positive correlation, meaning movies with higher IMDb votes tend to have higher IMDb ratings.\n",
        "* TMDb popularity and TMDb score may have a weaker correlation, suggesting that a movie’s popularity doesn’t always guarantee a higher score.\n",
        "* There may be a moderate correlation between IMDb votes and TMDb popularity, indicating that movies with many IMDb votes tend to be more popular on TMDb as well.\n",
        "* Some negative or weak correlations may indicate that different scoring systems (IMDb vs. TMDb) have different criteria for rating content."
      ],
      "metadata": {
        "id": "ozQPc2_Ip1cl"
      }
    },
    {
      "cell_type": "markdown",
      "source": [
        "##### 3. Will the gained insights help creating a positive business impact?\n",
        "Are there any insights that lead to negative growth? Justify with specific reason."
      ],
      "metadata": {
        "id": "3MPXvC8up1cl"
      }
    },
    {
      "cell_type": "markdown",
      "source": [
        "Positive Impact:\n",
        "* Better Content Selection: Streaming platforms and content producers can focus on highly rated movies that also have strong engagement (votes and popularity).\n",
        "* Marketing Strategy Optimization: Understanding which factors contribute most to popularity can help improve promotional efforts, targeting the right audience.\n",
        "* Data-Driven Decision Making: Platforms like Netflix and Amazon Prime can prioritize content that is both critically acclaimed and popular, leading to higher user retention.\n",
        "\n",
        "Potential Negative Growth & Justification:\n",
        "* Over-reliance on Popularity Metrics: If companies focus only on popularity (TMDb votes) rather than quality (IMDb score), they might end up promoting average or low-quality content, reducing long-term engagement.\n",
        "* Discrepancies Between IMDb & TMDb Scores: If platforms rely only on one rating system, they might misjudge a film’s actual audience reception. For example, a movie may be highly rated on IMDb but have low popularity on TMDb, leading to biased content curation.\n",
        "* Ignoring Niche Content: If decision-makers only invest in high-correlation trends, independent or niche films may get overlooked, leading to a less diverse content library.\n",
        "\n",
        "Justification :\n",
        "The heatmap provides valuable insights into content performance, helping businesses improve recommendations, marketing, and production strategies. However, relying too heavily on popularity metrics without considering audience diversity and quality ratings could lead to short-term gains but long-term negative impact on content engagement."
      ],
      "metadata": {
        "id": "GL8l1tdLp1cl"
      }
    },
    {
      "cell_type": "markdown",
      "source": [
        "#### Chart - 14 - Correlation Heatmap"
      ],
      "metadata": {
        "id": "NC_X3p0fY2L0"
      }
    },
    {
      "cell_type": "code",
      "source": [
        "import pandas as pd\n",
        "import matplotlib.pyplot as plt\n",
        "import seaborn as sns\n",
        "\n",
        "# Load the dataset\n",
        "credits_path = \"/credits.csv\"\n",
        "titles_path = \"/titles.csv\"\n",
        "credits_df = pd.read_csv(credits_path)\n",
        "titles_df = pd.read_csv(titles_path)\n",
        "\n",
        "# Merge datasets on 'id' column to combine actor/director data with movie details\n",
        "merged_df = pd.merge(credits_df, titles_df, on='id', how='inner')\n",
        "\n",
        "# Selecting relevant numerical columns for correlation analysis\n",
        "numerical_columns = ['imdb_score', 'imdb_votes', 'tmdb_popularity', 'tmdb_score']\n",
        "merged_numeric = merged_df[numerical_columns].dropna()\n",
        "\n",
        "# Compute the correlation matrix\n",
        "correlation_matrix = merged_numeric.corr()\n",
        "\n",
        "# Plot a heatmap\n",
        "plt.figure(figsize=(8, 6))\n",
        "sns.heatmap(correlation_matrix, annot=True, cmap='coolwarm', fmt='.2f', linewidths=0.5)\n",
        "plt.title(\"Correlation Heatmap of IMDb and TMDb Metrics with Merged Data\")\n",
        "plt.show()\n"
      ],
      "metadata": {
        "id": "xyC9zolEZNRQ"
      },
      "execution_count": null,
      "outputs": []
    },
    {
      "cell_type": "markdown",
      "source": [
        "##### 1. Why did you pick the specific chart?"
      ],
      "metadata": {
        "id": "UV0SzAkaZNRQ"
      }
    },
    {
      "cell_type": "markdown",
      "source": [
        "A heatmap is ideal for visualizing the correlation between numerical variables. By merging the credits.csv and titles.csv datasets, we can analyze the relationship between IMDb scores, IMDb votes, TMDb popularity, and TMDb scores, considering additional context from cast and crew data. This approach helps uncover insights about how audience engagement and ratings interact with movie popularity."
      ],
      "metadata": {
        "id": "DVPuT8LYZNRQ"
      }
    },
    {
      "cell_type": "markdown",
      "source": [
        "##### 2. What is/are the insight(s) found from the chart?"
      ],
      "metadata": {
        "id": "YPEH6qLeZNRQ"
      }
    },
    {
      "cell_type": "markdown",
      "source": [
        "* IMDb votes and IMDb scores show a strong positive correlation, meaning movies with more user ratings generally receive higher scores.\n",
        "* TMDb popularity has a moderate correlation with IMDb votes, suggesting that films with more IMDb engagement also tend to be popular on TMDb.\n",
        "* TMDb score correlation with other metrics may be weaker, indicating that the rating system on TMDb is influenced by different factors compared to IMDb.\n",
        "* Some weak or negative correlations may indicate that popularity doesn’t always align with high ratings, as some widely discussed films may still receive mixed reviews."
      ],
      "metadata": {
        "id": "bfSqtnDqZNRR"
      }
    },
    {
      "cell_type": "markdown",
      "source": [
        "#### Chart - 15 - Pair Plot"
      ],
      "metadata": {
        "id": "q29F0dvdveiT"
      }
    },
    {
      "cell_type": "code",
      "source": [
        "import pandas as pd\n",
        "import matplotlib.pyplot as plt\n",
        "import seaborn as sns\n",
        "\n",
        "# Load the dataset\n",
        "credits_path = \"/credits.csv\"\n",
        "titles_path = \"/titles.csv\"\n",
        "credits_df = pd.read_csv(credits_path)\n",
        "titles_df = pd.read_csv(titles_path)\n",
        "\n",
        "# Merge datasets on 'id' column to combine actor/director data with movie details\n",
        "merged_df = pd.merge(credits_df, titles_df, on='id', how='inner')\n",
        "\n",
        "# Selecting relevant numerical columns for pair plot analysis\n",
        "numerical_columns = ['imdb_score', 'imdb_votes', 'tmdb_popularity', 'tmdb_score']\n",
        "merged_numeric = merged_df[numerical_columns].dropna()\n",
        "\n",
        "# Plot a pair plot\n",
        "sns.pairplot(merged_numeric)\n",
        "plt.suptitle(\"Pair Plot of IMDb and TMDb Metrics\", y=1.02)\n",
        "plt.show()"
      ],
      "metadata": {
        "id": "o58-TEIhveiU"
      },
      "execution_count": null,
      "outputs": []
    },
    {
      "cell_type": "markdown",
      "source": [
        "##### 1. Why did you pick the specific chart?"
      ],
      "metadata": {
        "id": "EXh0U9oCveiU"
      }
    },
    {
      "cell_type": "markdown",
      "source": [
        "A Pair Plot is an effective way to visualize the relationships between multiple numerical variables. Since IMDb and TMDb scores, votes, and popularity are interconnected, a pair plot helps identify correlations, trends, and outliers in one glance. It is especially useful in understanding how different metrics interact and spotting clusters or anomalies in the data."
      ],
      "metadata": {
        "id": "eMmPjTByveiU"
      }
    },
    {
      "cell_type": "markdown",
      "source": [
        "##### 2. What is/are the insight(s) found from the chart?"
      ],
      "metadata": {
        "id": "22aHeOlLveiV"
      }
    },
    {
      "cell_type": "markdown",
      "source": [
        "* There seems to be a strong positive correlation between IMDb votes and IMDb scores, meaning that movies with more ratings tend to have a higher score.\n",
        "* TMDb popularity does not always correlate strongly with IMDb scores, suggesting that a movie can be widely discussed but not necessarily well-rated.\n",
        "Some movies with high IMDb scores might have fewer votes, indicating niche  content that has a dedicated audience but lacks mainstream attention.\n",
        "* The scatter plots reveal outliers, where certain movies have extremely high popularity but moderate or low scores, possibly indicating hype-driven content."
      ],
      "metadata": {
        "id": "uPQ8RGwHveiV"
      }
    },
    {
      "cell_type": "markdown",
      "source": [
        "## **5. Solution to Business Objective**"
      ],
      "metadata": {
        "id": "JcMwzZxoAimU"
      }
    },
    {
      "cell_type": "markdown",
      "source": [
        "#### What do you suggest the client to achieve Business Objective ?\n",
        "Explain Briefly."
      ],
      "metadata": {
        "id": "8G2x9gOozGDZ"
      }
    },
    {
      "cell_type": "markdown",
      "source": [
        "To achieve the business objective, the client should focus on improving content recommendations by using IMDb and TMDb ratings to suggest top-rated movies and shows. This will help increase user engagement and satisfaction.\n",
        "\n",
        "Ensuring metadata completeness is also important. Filling missing values in columns like age_certification, seasons, and imdb_score by cross-referencing other sources will improve content categorization and help users make better viewing choices.\n",
        "\n",
        "Another key strategy is targeted marketing based on content popularity. Promoting high tmdb_popularity titles in featured lists and advertisements can attract more viewers and boost watch time.\n",
        "\n",
        "Analyzing production_countries and age_certification data can help in optimizing content for different regions. Understanding regional preferences allows the client to curate recommendations tailored to specific audiences, improving retention rates.\n",
        "\n",
        "Finally, differentiating between TV shows and movies using the seasons column is essential. Proper classification will ensure better filtering and a more seamless user experience.\n",
        "\n",
        "By implementing these strategies, the client can enhance user engagement, improve content discoverability, and drive more viewership.\n",
        "\n",
        "\n",
        "\n",
        "\n",
        "\n",
        "\n",
        "\n"
      ],
      "metadata": {
        "id": "pASKb0qOza21"
      }
    },
    {
      "cell_type": "markdown",
      "source": [
        "# **Conclusion**"
      ],
      "metadata": {
        "id": "gCX9965dhzqZ"
      }
    },
    {
      "cell_type": "markdown",
      "source": [
        "This exploratory data analysis on Amazon Prime TV shows and movies helped in understanding key aspects of the dataset, including missing values, duplicate entries, and inconsistencies. Through data cleaning and wrangling, we prepared the dataset for meaningful analysis by handling missing values, optimizing data types, and standardizing text formats.\n",
        "\n",
        "Key insights revealed trends in content popularity, missing metadata issues, and differences in movie and TV show classifications. Based on these insights, recommendations were made to improve content recommendations, enhance metadata completeness, and implement targeted marketing strategies.\n",
        "\n",
        "By leveraging IMDb and TMDb ratings, optimizing content for different regions, and ensuring proper categorization, the client can improve user engagement and content discoverability. This analysis provides a strong foundation for further predictive modeling or recommendation system development."
      ],
      "metadata": {
        "id": "Fjb1IsQkh3yE"
      }
    },
    {
      "cell_type": "markdown",
      "source": [
        "### ***Hurrah! You have successfully completed your EDA Capstone Project !!!***"
      ],
      "metadata": {
        "id": "gIfDvo9L0UH2"
      }
    },
    {
      "cell_type": "code",
      "source": [],
      "metadata": {
        "id": "dYX880etpL0x"
      },
      "execution_count": null,
      "outputs": []
    },
    {
      "cell_type": "code",
      "source": [],
      "metadata": {
        "id": "-6Vl263upPVI"
      },
      "execution_count": null,
      "outputs": []
    }
  ]
}